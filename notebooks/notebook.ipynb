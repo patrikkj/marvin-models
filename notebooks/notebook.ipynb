{
 "cells": [
  {
   "cell_type": "code",
   "execution_count": null,
   "metadata": {
    "id": "Z2IeYCIBkvX6"
   },
   "outputs": [],
   "source": [
    "# Project info\n",
    "PROJECT_ID = 'marvin-voice'\n",
    "GIT_OWNER = 'patrikkj'\n",
    "GIT_REPO = 'marvin-models'\n",
    "DATASET = 'dataset' # either 'dataset' or 'dataset_full'\n",
    "\n",
    "# Download code from Git\n",
    "!git clone -q https://github.com/{GIT_OWNER}/{GIT_REPO}.git\n",
    "\n",
    "# Download and unpack dataset from GCS bucket\n",
    "!gsutil -q cp gs://{PROJECT_ID}/{DATASET}.zip /tmp\n",
    "!unzip -q /tmp/{DATASET}.zip -d /content/{GIT_REPO}/data/{DATASET}\n",
    "\n",
    "# Make scripts accessible within notebook\n",
    "import sys\n",
    "sys.path.append(f\"/content/{GIT_REPO}\")"
   ]
  },
  {
   "cell_type": "code",
   "execution_count": 5,
   "metadata": {},
   "outputs": [],
   "source": [
    "# Project info\n",
    "PROJECT_ID = 'marvin-voice'\n",
    "DATASET = 'dataset' # either 'dataset' or 'dataset_full'"
   ]
  },
  {
   "cell_type": "code",
   "execution_count": null,
   "metadata": {},
   "outputs": [],
   "source": [
    "# Download code from Git\n",
    "GIT_OWNER = 'patrikkj'\n",
    "GIT_REPO = 'marvin-models'\n",
    "!git clone -q https://github.com/{GIT_OWNER}/{GIT_REPO}.git"
   ]
  },
  {
   "cell_type": "code",
   "execution_count": 6,
   "metadata": {},
   "outputs": [
    {
     "name": "stderr",
     "output_type": "stream",
     "text": [
      "Copying gs://sheila-app/dataset.zip...\n",
      "/ [0 files][    0.0 B/ 80.0 MiB]                                                \n",
      "-\n",
      "- [0 files][  3.1 MiB/ 80.0 MiB]                                                \n",
      "\\\n",
      "\\ [0 files][ 24.2 MiB/ 80.0 MiB]                                                \n",
      "|\n",
      "/\n",
      "/ [0 files][ 44.9 MiB/ 80.0 MiB]                                                \n",
      "-\n",
      "\\\n",
      "\\ [0 files][ 54.9 MiB/ 80.0 MiB]                                                \n",
      "|\n",
      "| [0 files][ 76.8 MiB/ 80.0 MiB]                                                \n",
      "/\n",
      "/ [1 files][ 80.0 MiB/ 80.0 MiB]                                                \n",
      "\n",
      "Operation completed over 1 objects/80.0 MiB.                                     \n",
      "'unzip' is not recognized as an internal or external command,\n",
      "operable program or batch file.\n"
     ]
    }
   ],
   "source": [
    "# Download and unpack dataset from GCS bucket\n",
    "PROJECT_ID = 'sheila-app'\n",
    "DATASET = 'dataset' # either 'dataset' or 'dataset_full'\n",
    "!gsutil cp gs://{PROJECT_ID}/{DATASET}.zip ./data\n",
    "!unzip ./data/{DATASET}.zip -d ./data/{DATASET}"
   ]
  },
  {
   "cell_type": "code",
   "execution_count": null,
   "metadata": {},
   "outputs": [],
   "source": [
    "# Make scripts accessible within notebook\n",
    "import sys\n",
    "sys.path.append(f\"/content/{GIT_REPO}\")"
   ]
  },
  {
   "cell_type": "code",
   "execution_count": 7,
   "metadata": {
    "id": "4mKHbFyBy7Up"
   },
   "outputs": [
    {
     "name": "stderr",
     "output_type": "stream",
     "text": [
      "fatal: cannot change to 'marvin-models': No such file or directory\n"
     ]
    }
   ],
   "source": [
    "!git -C marvin-models status\n"
   ]
  },
  {
   "cell_type": "code",
   "execution_count": 5,
   "metadata": {},
   "outputs": [
    {
     "name": "stdout",
     "output_type": "stream",
     "text": [
      "Usage: gsutil [-D] [-DD] [-h header]... [-m] [-o] [-q] [command [opts...] args...]\n",
      "Available commands:\n",
      "  acl              Get, set, or change bucket and/or object ACLs\n",
      "  bucketpolicyonly Configure uniform bucket-level access\n",
      "  cat              Concatenate object content to stdout\n",
      "  compose          Concatenate a sequence of objects into a new composite object.\n",
      "  config           Obtain credentials and create configuration file\n",
      "  cors             Get or set a CORS JSON document for one or more buckets\n",
      "  cp               Copy files and objects\n",
      "  defacl           Get, set, or change default ACL on buckets\n",
      "  defstorageclass  Get or set the default storage class on buckets\n",
      "  du               Display object size usage\n",
      "  hash             Calculate file hashes\n",
      "  help             Get help about commands and topics\n",
      "  hmac             CRUD operations on service account HMAC keys.\n",
      "  iam              Get, set, or change bucket and/or object IAM permissions.\n",
      "  kms              Configure Cloud KMS encryption\n",
      "  label            Get, set, or change the label configuration of a bucket.\n",
      "  lifecycle        Get or set lifecycle configuration for a bucket\n",
      "  logging          Configure or retrieve logging on buckets\n",
      "  ls               List providers, buckets, or objects\n",
      "  mb               Make buckets\n",
      "  mv               Move/rename objects\n",
      "  notification     Configure object change notification\n",
      "  perfdiag         Run performance diagnostic\n",
      "  rb               Remove buckets\n",
      "  requesterpays    Enable or disable requester pays for one or more buckets\n",
      "  retention        Provides utilities to interact with Retention Policy feature.\n",
      "  rewrite          Rewrite objects\n",
      "  rm               Remove objects\n",
      "  rsync            Synchronize content of two buckets/directories\n",
      "  setmeta          Set metadata on already uploaded objects\n",
      "  signurl          Create a signed url\n",
      "  stat             Display object status\n",
      "  test             Run gsutil unit/integration tests (for developers)\n",
      "  ubla             Configure Uniform bucket-level access\n",
      "  version          Print version info about gsutil\n",
      "  versioning       Enable or suspend versioning for one or more buckets\n",
      "  web              Set a main page and/or error page for one or more buckets\n",
      "\n",
      "Additional help topics:\n",
      "  acls             Working With Access Control Lists\n",
      "  anon             Accessing Public Data Without Credentials\n",
      "  apis             Cloud Storage APIs\n",
      "  crc32c           CRC32C and Installing crcmod\n",
      "  creds            Credential Types Supporting Various Use Cases\n",
      "  dev              Contributing Code to gsutil\n",
      "  encoding         Filename encoding and interoperability problems\n",
      "  encryption       Using Encryption Keys\n",
      "  metadata         Working With Object Metadata\n",
      "  naming           Object and Bucket Naming\n",
      "  options          Top-Level Command-Line Options\n",
      "  prod             Scripting Production Transfers\n",
      "  projects         Working With Projects\n",
      "  retries          Retry Handling Strategy\n",
      "  security         Security and Privacy Considerations\n",
      "  subdirs          How Subdirectories Work\n",
      "  support          Google Cloud Storage Support\n",
      "  throttling       Throttling gsutil\n",
      "  versions         Object Versioning and Concurrency Control\n",
      "  wildcards        Wildcard Names\n",
      "\n",
      "Use gsutil help <command or topic> for detailed help.\n"
     ]
    }
   ],
   "source": [
    "!gsutil"
   ]
  },
  {
   "cell_type": "code",
   "execution_count": 4,
   "metadata": {},
   "outputs": [
    {
     "name": "stdout",
     "output_type": "stream",
     "text": [
      " Volume in drive J is Cloud\n",
      " Volume Serial Number is CA36-C4FE\n",
      "\n",
      " Directory of J:\\Drive\\Filer\\Kode\\git\\marvin-models\\notebooks\n",
      "\n",
      "11.10.2020  15:37    <DIR>          .\n",
      "11.10.2020  15:37    <DIR>          ..\n",
      "11.10.2020  15:31    <DIR>          .ipynb_checkpoints\n",
      "11.10.2020  15:36             3ÿ576 notebook.ipynb\n",
      "10.10.2020  00:53                36 README.md\n",
      "               2 File(s)          3ÿ612 bytes\n",
      "               3 Dir(s)  15ÿ114ÿ461ÿ184 bytes free\n"
     ]
    }
   ],
   "source": [
    "!dir"
   ]
  },
  {
   "cell_type": "code",
   "execution_count": null,
   "metadata": {},
   "outputs": [],
   "source": []
  }
 ],
 "metadata": {
  "colab": {
   "collapsed_sections": [],
   "name": "notebook.ipynb",
   "provenance": []
  },
  "kernelspec": {
   "display_name": "Python 3",
   "language": "python",
   "name": "python3"
  },
  "language_info": {
   "codemirror_mode": {
    "name": "ipython",
    "version": 3
   },
   "file_extension": ".py",
   "mimetype": "text/x-python",
   "name": "python",
   "nbconvert_exporter": "python",
   "pygments_lexer": "ipython3",
   "version": "3.8.5"
  }
 },
 "nbformat": 4,
 "nbformat_minor": 4
}
