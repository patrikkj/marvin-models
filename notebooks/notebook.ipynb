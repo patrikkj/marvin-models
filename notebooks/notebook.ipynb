{
 "cells": [
  {
   "cell_type": "code",
   "execution_count": 1,
   "metadata": {
    "id": "Z2IeYCIBkvX6"
   },
   "outputs": [
    {
     "name": "stdout",
     "output_type": "stream",
     "text": [
      "J:\\Drive\\Filer\\Kode\\git\\marvin-models\n"
     ]
    }
   ],
   "source": [
    "# Project info\n",
    "PROJECT_ID = 'marvin-voice'\n",
    "GIT_OWNER, GIT_REPO = 'patrikkj', 'marvin-models'\n",
    "DATASET = 'dataset'\n",
    "%cd .. # Set CWD to project root"
   ]
  },
  {
   "cell_type": "code",
   "execution_count": 4,
   "metadata": {
    "id": "Z2IeYCIBkvX6"
   },
   "outputs": [],
   "source": [
    "# Run this cell only if we're running from Google Colab\n",
    "IN_COLAB = 'google.colab' in str(get_ipython())\n",
    "if IN_COLAB:\n",
    "    !git clone -q https://github.com/{GIT_OWNER}/{GIT_REPO}.git\n",
    "    !gsutil -q cp gs://{PROJECT_ID}/data/raw/{DATASET}.tar.gz /tmp\n",
    "    !tar -xf /tmp/{DATASET}.tar.gz -C /content/{GIT_REPO}/data\n",
    "    import sys\n",
    "    sys.path.append(f\"/content/{GIT_REPO}\")\n",
    "else:\n",
    "    !gsutil -q cp gs://{PROJECT_ID}/data/raw/{DATASET}.tar.gz data\n",
    "    !tar -xf data/{DATASET}.tar.gz -C data"
   ]
  },
  {
   "cell_type": "code",
   "execution_count": null,
   "metadata": {},
   "outputs": [],
   "source": []
  },
  {
   "cell_type": "code",
   "execution_count": null,
   "metadata": {},
   "outputs": [],
   "source": []
  },
  {
   "cell_type": "code",
   "execution_count": null,
   "metadata": {},
   "outputs": [],
   "source": []
  }
 ],
 "metadata": {
  "colab": {
   "collapsed_sections": [],
   "name": "notebook.ipynb",
   "provenance": []
  },
  "kernelspec": {
   "display_name": "Python 3",
   "language": "python",
   "name": "python3"
  },
  "language_info": {
   "codemirror_mode": {
    "name": "ipython",
    "version": 3
   },
   "file_extension": ".py",
   "mimetype": "text/x-python",
   "name": "python",
   "nbconvert_exporter": "python",
   "pygments_lexer": "ipython3",
   "version": "3.8.5"
  }
 },
 "nbformat": 4,
 "nbformat_minor": 4
}
