{
  "nbformat": 4,
  "nbformat_minor": 0,
  "metadata": {
    "colab": {
      "name": "notebook.ipynb",
      "provenance": [],
      "collapsed_sections": []
    },
    "kernelspec": {
      "name": "python3",
      "display_name": "Python 3"
    }
  },
  "cells": [
    {
      "cell_type": "code",
      "metadata": {
        "id": "Z2IeYCIBkvX6"
      },
      "source": [
        "# Project info\n",
        "PROJECT_ID = 'marvin-voice'\n",
        "GIT_OWNER = 'patrikkj'\n",
        "GIT_REPO = 'marvin-models'\n",
        "DATASET = 'dataset' # either 'dataset' or 'dataset_full'\n",
        "\n",
        "# Download code from Git\n",
        "!git clone -q https://github.com/{GIT_OWNER}/{GIT_REPO}.git\n",
        "\n",
        "# Download and unpack dataset from GCS bucket\n",
        "!gsutil -q cp gs://{PROJECT_ID}/{DATASET}.zip /tmp\n",
        "!unzip -q /tmp/{DATASET}.zip -d /content/{GIT_REPO}/data/{DATASET}\n",
        "\n",
        "# Make scripts accessible within notebook\n",
        "import sys\n",
        "sys.path.append(f\"/content/{GIT_REPO}\")"
      ],
      "execution_count": null,
      "outputs": []
    },
    {
      "cell_type": "code",
      "metadata": {
        "id": "4mKHbFyBy7Up"
      },
      "source": [
        "!git -C marvin-models status"
      ],
      "execution_count": null,
      "outputs": []
    }
  ]
}