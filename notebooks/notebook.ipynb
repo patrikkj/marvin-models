{
 "cells": [
  {
   "cell_type": "markdown",
   "metadata": {},
   "source": [
    "#### Initial setup"
   ]
  },
  {
   "cell_type": "code",
   "execution_count": 4,
   "metadata": {
    "id": "Z2IeYCIBkvX6"
   },
   "outputs": [],
   "source": [
    "# Project info\n",
    "PROJECT_ID = 'marvin-voice'\n",
    "GIT_OWNER, GIT_REPO = 'patrikkj', 'marvin-models'\n",
    "DATASET = 'dataset'\n",
    "\n",
    "# Set current working directory to project root\n",
    "import os\n",
    "if os.getcwd().endswith(\"notebooks\"):\n",
    "    %cd -q ..\n",
    "    \n",
    "# Identify environment\n",
    "IN_COLAB = 'google.colab' in str(get_ipython())"
   ]
  },
  {
   "cell_type": "code",
   "execution_count": 4,
   "metadata": {
    "id": "Z2IeYCIBkvX6"
   },
   "outputs": [],
   "source": [
    "# Run this cell only if we're running from Google Colab\n",
    "if IN_COLAB:\n",
    "    !git clone -q https://github.com/{GIT_OWNER}/{GIT_REPO}.git\n",
    "    !gsutil -q cp gs://{PROJECT_ID}/data/raw/{DATASET}.tar.gz /tmp\n",
    "    !tar -xf /tmp/{DATASET}.tar.gz -C /content/{GIT_REPO}/data\n",
    "    import sys\n",
    "    sys.path.append(f\"/content/{GIT_REPO}\")\n",
    "else:\n",
    "    !gsutil -q cp gs://{PROJECT_ID}/data/raw/{DATASET}.tar.gz data\n",
    "    !tar -xf data/{DATASET}.tar.gz -C data"
   ]
  },
  {
   "cell_type": "code",
   "execution_count": 5,
   "metadata": {},
   "outputs": [],
   "source": [
    "# Internal modules\n",
    "import os, sys, glob\n",
    "from importlib import reload\n",
    "\n",
    "# External modules\n",
    "import matplotlib.pyplot as plt\n",
    "import tensorflow as tf\n",
    "import tensorflow_datasets as tfds\n",
    "import tensorflow_io as tfio\n",
    "from tensorflow_io import experimental as tfex\n",
    "\n",
    "# Colab modules\n",
    "if IN_COLAB:\n",
    "    from google.colab import auth\n",
    "    from IPython import display\n",
    "    from oauth2client.client import GoogleCredentials\n",
    "    from pydrive.auth import GoogleAuth\n",
    "    \n",
    "# Scripts\n",
    "from scripts import preprocessing"
   ]
  },
  {
   "cell_type": "code",
   "execution_count": 119,
   "metadata": {},
   "outputs": [],
   "source": [
    "preprocessing = reload(preprocessing)\n",
    "\n",
    "paths = glob.glob(f\"data/dataset/*/*.wav\")\n",
    "#paths = paths[:500] + paths[-500:]\n",
    "\n",
    "tensors = [preprocessing.to_tensor(path) for path in paths]\n",
    "specs = [preprocessing.tensor_to_log_mel_spec(tensor) for tensor in tensors]\n",
    "mfccs = [preprocessing.batch_log_mel_spec_to_mfccs(spec) for spec in specs]\n",
    "\n",
    "labels = [preprocessing.to_binary_label(path) for path in paths]\n",
    "#dataset = tf.data.Dataset.from_tensor_slices((specs, labels))\n"
   ]
  },
  {
   "cell_type": "code",
   "execution_count": 129,
   "metadata": {},
   "outputs": [
    {
     "name": "stdout",
     "output_type": "stream",
     "text": [
      "Epoch 1/50\n",
      "2/2 [==============================] - 0s 3ms/step - loss: 0.6855 - accuracy: 0.5300\n",
      "Epoch 2/50\n",
      "2/2 [==============================] - 0s 3ms/step - loss: 0.6441 - accuracy: 0.7790\n",
      "Epoch 3/50\n",
      "2/2 [==============================] - 0s 3ms/step - loss: 0.6205 - accuracy: 0.8380\n",
      "Epoch 4/50\n",
      "2/2 [==============================] - 0s 2ms/step - loss: 0.5923 - accuracy: 0.8420\n",
      "Epoch 5/50\n",
      "2/2 [==============================] - 0s 3ms/step - loss: 0.5572 - accuracy: 0.8720\n",
      "Epoch 6/50\n",
      "2/2 [==============================] - 0s 3ms/step - loss: 0.5323 - accuracy: 0.8870\n",
      "Epoch 7/50\n",
      "2/2 [==============================] - 0s 2ms/step - loss: 0.5100 - accuracy: 0.8920\n",
      "Epoch 8/50\n",
      "2/2 [==============================] - 0s 3ms/step - loss: 0.4758 - accuracy: 0.8980\n",
      "Epoch 9/50\n",
      "2/2 [==============================] - 0s 3ms/step - loss: 0.4437 - accuracy: 0.8940\n",
      "Epoch 10/50\n",
      "2/2 [==============================] - 0s 3ms/step - loss: 0.4212 - accuracy: 0.8940\n",
      "Epoch 11/50\n",
      "2/2 [==============================] - 0s 3ms/step - loss: 0.3965 - accuracy: 0.9060\n",
      "Epoch 12/50\n",
      "2/2 [==============================] - 0s 3ms/step - loss: 0.3727 - accuracy: 0.9150\n",
      "Epoch 13/50\n",
      "2/2 [==============================] - 0s 3ms/step - loss: 0.3530 - accuracy: 0.9130\n",
      "Epoch 14/50\n",
      "2/2 [==============================] - 0s 3ms/step - loss: 0.3311 - accuracy: 0.9260\n",
      "Epoch 15/50\n",
      "2/2 [==============================] - 0s 3ms/step - loss: 0.3104 - accuracy: 0.9310\n",
      "Epoch 16/50\n",
      "2/2 [==============================] - 0s 3ms/step - loss: 0.2930 - accuracy: 0.9340\n",
      "Epoch 17/50\n",
      "2/2 [==============================] - 0s 4ms/step - loss: 0.2787 - accuracy: 0.9400\n",
      "Epoch 18/50\n",
      "2/2 [==============================] - 0s 3ms/step - loss: 0.2648 - accuracy: 0.9460\n",
      "Epoch 19/50\n",
      "2/2 [==============================] - 0s 3ms/step - loss: 0.2527 - accuracy: 0.9450\n",
      "Epoch 20/50\n",
      "2/2 [==============================] - 0s 3ms/step - loss: 0.2440 - accuracy: 0.9490\n",
      "Epoch 21/50\n",
      "2/2 [==============================] - 0s 2ms/step - loss: 0.2346 - accuracy: 0.9520\n",
      "Epoch 22/50\n",
      "2/2 [==============================] - 0s 3ms/step - loss: 0.2249 - accuracy: 0.9490\n",
      "Epoch 23/50\n",
      "2/2 [==============================] - 0s 2ms/step - loss: 0.2140 - accuracy: 0.9530\n",
      "Epoch 24/50\n",
      "2/2 [==============================] - 0s 3ms/step - loss: 0.2068 - accuracy: 0.9580\n",
      "Epoch 25/50\n",
      "2/2 [==============================] - 0s 3ms/step - loss: 0.1987 - accuracy: 0.9570\n",
      "Epoch 26/50\n",
      "2/2 [==============================] - 0s 3ms/step - loss: 0.1918 - accuracy: 0.9610\n",
      "Epoch 27/50\n",
      "2/2 [==============================] - 0s 3ms/step - loss: 0.1846 - accuracy: 0.9620\n",
      "Epoch 28/50\n",
      "2/2 [==============================] - 0s 3ms/step - loss: 0.1779 - accuracy: 0.9590\n",
      "Epoch 29/50\n",
      "2/2 [==============================] - 0s 3ms/step - loss: 0.1703 - accuracy: 0.9630\n",
      "Epoch 30/50\n",
      "2/2 [==============================] - 0s 3ms/step - loss: 0.1646 - accuracy: 0.9660\n",
      "Epoch 31/50\n",
      "2/2 [==============================] - 0s 4ms/step - loss: 0.1607 - accuracy: 0.9670\n",
      "Epoch 32/50\n",
      "2/2 [==============================] - 0s 2ms/step - loss: 0.1552 - accuracy: 0.9690\n",
      "Epoch 33/50\n",
      "2/2 [==============================] - 0s 3ms/step - loss: 0.1502 - accuracy: 0.9700\n",
      "Epoch 34/50\n",
      "2/2 [==============================] - 0s 3ms/step - loss: 0.1452 - accuracy: 0.9720\n",
      "Epoch 35/50\n",
      "2/2 [==============================] - 0s 3ms/step - loss: 0.1415 - accuracy: 0.9710\n",
      "Epoch 36/50\n",
      "2/2 [==============================] - 0s 2ms/step - loss: 0.1378 - accuracy: 0.9710\n",
      "Epoch 37/50\n",
      "2/2 [==============================] - 0s 3ms/step - loss: 0.1341 - accuracy: 0.9700\n",
      "Epoch 38/50\n",
      "2/2 [==============================] - 0s 3ms/step - loss: 0.1319 - accuracy: 0.9720\n",
      "Epoch 39/50\n",
      "2/2 [==============================] - 0s 4ms/step - loss: 0.1292 - accuracy: 0.9710\n",
      "Epoch 40/50\n",
      "2/2 [==============================] - 0s 3ms/step - loss: 0.1253 - accuracy: 0.9730\n",
      "Epoch 41/50\n",
      "2/2 [==============================] - 0s 3ms/step - loss: 0.1212 - accuracy: 0.9730\n",
      "Epoch 42/50\n",
      "2/2 [==============================] - 0s 3ms/step - loss: 0.1185 - accuracy: 0.9720\n",
      "Epoch 43/50\n",
      "2/2 [==============================] - 0s 3ms/step - loss: 0.1164 - accuracy: 0.9730\n",
      "Epoch 44/50\n",
      "2/2 [==============================] - 0s 3ms/step - loss: 0.1143 - accuracy: 0.9730\n",
      "Epoch 45/50\n",
      "2/2 [==============================] - 0s 2ms/step - loss: 0.1109 - accuracy: 0.9730\n",
      "Epoch 46/50\n",
      "2/2 [==============================] - 0s 3ms/step - loss: 0.1089 - accuracy: 0.9730\n",
      "Epoch 47/50\n",
      "2/2 [==============================] - 0s 3ms/step - loss: 0.1077 - accuracy: 0.9740\n",
      "Epoch 48/50\n",
      "2/2 [==============================] - 0s 2ms/step - loss: 0.1054 - accuracy: 0.9740\n",
      "Epoch 49/50\n",
      "2/2 [==============================] - 0s 3ms/step - loss: 0.1045 - accuracy: 0.9750\n",
      "Epoch 50/50\n",
      "2/2 [==============================] - 0s 3ms/step - loss: 0.1027 - accuracy: 0.9750\n"
     ]
    },
    {
     "data": {
      "text/plain": [
       "<tensorflow.python.keras.callbacks.History at 0x2a1dac12a30>"
      ]
     },
     "execution_count": 129,
     "metadata": {},
     "output_type": "execute_result"
    }
   ],
   "source": [
    "dataset = tf.data.Dataset.from_tensor_slices((mfccs, labels))\n",
    "\"\"\"\n",
    "for tensor, label in dataset.take(5):\n",
    "    print(tensor.shape)\n",
    "    print(label.shape)\n",
    "    print()\n",
    "\"\"\"\n",
    "dataset = dataset.shuffle(10000).batch(512)\n",
    "\n",
    "model = tf.keras.Sequential([\n",
    "  tf.keras.layers.Flatten(),\n",
    "  tf.keras.layers.Dense(128, activation='sigmoid'),\n",
    "  tf.keras.layers.Dense(16, activation='sigmoid'),\n",
    "  tf.keras.layers.Dense(1, activation='sigmoid')\n",
    "])\n",
    "\n",
    "model.compile(optimizer='adam',\n",
    "              loss='binary_crossentropy', \n",
    "              metrics=['accuracy'])\n",
    "\n",
    "model.fit(dataset, epochs=50)"
   ]
  },
  {
   "cell_type": "code",
   "execution_count": 8,
   "metadata": {},
   "outputs": [
    {
     "ename": "ModuleNotFoundError",
     "evalue": "No module named 'google.colab'",
     "output_type": "error",
     "traceback": [
      "\u001b[1;31m---------------------------------------------------------------------------\u001b[0m",
      "\u001b[1;31mModuleNotFoundError\u001b[0m                       Traceback (most recent call last)",
      "\u001b[1;32m<ipython-input-8-fbb2e181cc17>\u001b[0m in \u001b[0;36m<module>\u001b[1;34m\u001b[0m\n\u001b[1;32m----> 1\u001b[1;33m \u001b[1;32mfrom\u001b[0m \u001b[0mscripts\u001b[0m \u001b[1;32mimport\u001b[0m \u001b[0mrecord_audio\u001b[0m\u001b[1;33m\u001b[0m\u001b[1;33m\u001b[0m\u001b[0m\n\u001b[0m\u001b[0;32m      2\u001b[0m \u001b[0maudio\u001b[0m\u001b[1;33m,\u001b[0m \u001b[0msr\u001b[0m \u001b[1;33m=\u001b[0m \u001b[0mrecord_audio\u001b[0m\u001b[1;33m.\u001b[0m\u001b[0mget_audio\u001b[0m\u001b[1;33m(\u001b[0m\u001b[1;33m)\u001b[0m\u001b[1;33m\u001b[0m\u001b[1;33m\u001b[0m\u001b[0m\n",
      "\u001b[1;32mJ:\\Drive\\Filer\\Kode\\git\\marvin-models\\scripts\\record_audio.py\u001b[0m in \u001b[0;36m<module>\u001b[1;34m\u001b[0m\n\u001b[0;32m     13\u001b[0m \"\"\"\n\u001b[0;32m     14\u001b[0m \u001b[1;32mfrom\u001b[0m \u001b[0mIPython\u001b[0m\u001b[1;33m.\u001b[0m\u001b[0mdisplay\u001b[0m \u001b[1;32mimport\u001b[0m \u001b[0mHTML\u001b[0m\u001b[1;33m,\u001b[0m \u001b[0mAudio\u001b[0m\u001b[1;33m\u001b[0m\u001b[1;33m\u001b[0m\u001b[0m\n\u001b[1;32m---> 15\u001b[1;33m \u001b[1;32mfrom\u001b[0m \u001b[0mgoogle\u001b[0m\u001b[1;33m.\u001b[0m\u001b[0mcolab\u001b[0m\u001b[1;33m.\u001b[0m\u001b[0moutput\u001b[0m \u001b[1;32mimport\u001b[0m \u001b[0meval_js\u001b[0m\u001b[1;33m\u001b[0m\u001b[1;33m\u001b[0m\u001b[0m\n\u001b[0m\u001b[0;32m     16\u001b[0m \u001b[1;32mfrom\u001b[0m \u001b[0mbase64\u001b[0m \u001b[1;32mimport\u001b[0m \u001b[0mb64decode\u001b[0m\u001b[1;33m\u001b[0m\u001b[1;33m\u001b[0m\u001b[0m\n\u001b[0;32m     17\u001b[0m \u001b[1;32mimport\u001b[0m \u001b[0mnumpy\u001b[0m \u001b[1;32mas\u001b[0m \u001b[0mnp\u001b[0m\u001b[1;33m\u001b[0m\u001b[1;33m\u001b[0m\u001b[0m\n",
      "\u001b[1;31mModuleNotFoundError\u001b[0m: No module named 'google.colab'"
     ]
    }
   ],
   "source": [
    "from scripts import record_audio\n",
    "audio, sr = record_audio.get_audio()"
   ]
  },
  {
   "cell_type": "code",
   "execution_count": null,
   "metadata": {},
   "outputs": [],
   "source": []
  }
 ],
 "metadata": {
  "colab": {
   "collapsed_sections": [],
   "name": "notebook.ipynb",
   "provenance": []
  },
  "kernelspec": {
   "display_name": "Python 3",
   "language": "python",
   "name": "python3"
  },
  "language_info": {
   "codemirror_mode": {
    "name": "ipython",
    "version": 3
   },
   "file_extension": ".py",
   "mimetype": "text/x-python",
   "name": "python",
   "nbconvert_exporter": "python",
   "pygments_lexer": "ipython3",
   "version": "3.8.5"
  }
 },
 "nbformat": 4,
 "nbformat_minor": 4
}
